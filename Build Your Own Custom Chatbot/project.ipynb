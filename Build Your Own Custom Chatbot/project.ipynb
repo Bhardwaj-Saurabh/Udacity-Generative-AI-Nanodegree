{
 "cells": [
  {
   "cell_type": "markdown",
   "id": "124e5672",
   "metadata": {},
   "source": [
    "# Custom Chatbot Project"
   ]
  },
  {
   "cell_type": "markdown",
   "id": "2a4a94b3",
   "metadata": {},
   "source": [
    "TODO: In this cell, write an explanation of which dataset you have chosen and why it is appropriate for this task\n",
    "\n",
    "**Dataset:** 2023 Fashion Trends\n",
    "\n",
    "To complete custom chatbot project, I have choosen the 2023 Fashion Trends dataset. This dataset contains information about the latest fashion trends for the year 2023, including styles, popular colors, fabric types, and other key fashion details. The dataset contains 82 rows and 3 different columns, making it well-suited for this such application.\n",
    "\n",
    "**User Case Scenario:**\n",
    "\n",
    "The custom chatbot will be designed to provide current and insightful information on 2023 fashion trends to users who are interested in staying up-to-date with the latest styles and designs. By integrating this dataset, the chatbot will be capable of answering specific questions about fashion trends, including details about popular colors, fabrics, styles, and accessories for the year 2023.\n",
    "\n",
    "This customization would be particularly beneficial for fashion enthusiasts, stylists, shoppers, and individuals looking to update their wardrobe with the latest trends. It can also serve as a valuable tool for retailers, designers, and marketers in the fashion industry who need to keep latest information of current styles to meet their clients requirements effectively. \n",
    "\n",
    "By offering accurate information on 2023 fashion trends, the chatbot can assist users in making informed fashion choices, enhancing their personal style, and staying ahead in the dynamic world of fashion."
   ]
  },
  {
   "cell_type": "markdown",
   "id": "a63d4c5f",
   "metadata": {},
   "source": [
    "## Data Wrangling\n",
    "\n",
    "TODO: In the cells below, load your chosen dataset into a `pandas` dataframe with a column named `\"text\"`. This column should contain all of your text data, separated into at least 20 rows."
   ]
  },
  {
   "cell_type": "code",
   "execution_count": 79,
   "id": "c69b83a1",
   "metadata": {},
   "outputs": [],
   "source": [
    "import pandas as pd\n",
    "\n",
    "# load the dataset\n",
    "df = pd.read_csv('data/2023_fashion_trends.csv')"
   ]
  },
  {
   "cell_type": "code",
   "execution_count": 80,
   "id": "0a595980",
   "metadata": {},
   "outputs": [
    {
     "data": {
      "text/html": [
       "<div>\n",
       "<style scoped>\n",
       "    .dataframe tbody tr th:only-of-type {\n",
       "        vertical-align: middle;\n",
       "    }\n",
       "\n",
       "    .dataframe tbody tr th {\n",
       "        vertical-align: top;\n",
       "    }\n",
       "\n",
       "    .dataframe thead th {\n",
       "        text-align: right;\n",
       "    }\n",
       "</style>\n",
       "<table border=\"1\" class=\"dataframe\">\n",
       "  <thead>\n",
       "    <tr style=\"text-align: right;\">\n",
       "      <th></th>\n",
       "      <th>URL</th>\n",
       "      <th>Trends</th>\n",
       "      <th>Source</th>\n",
       "    </tr>\n",
       "  </thead>\n",
       "  <tbody>\n",
       "    <tr>\n",
       "      <th>0</th>\n",
       "      <td>https://www.refinery29.com/en-us/fashion-trend...</td>\n",
       "      <td>2023 Fashion Trend: Red. Glossy red hues took ...</td>\n",
       "      <td>7 Fashion Trends That Will Take Over 2023 — Sh...</td>\n",
       "    </tr>\n",
       "    <tr>\n",
       "      <th>1</th>\n",
       "      <td>https://www.refinery29.com/en-us/fashion-trend...</td>\n",
       "      <td>2023 Fashion Trend: Cargo Pants. Utilitarian w...</td>\n",
       "      <td>7 Fashion Trends That Will Take Over 2023 — Sh...</td>\n",
       "    </tr>\n",
       "    <tr>\n",
       "      <th>2</th>\n",
       "      <td>https://www.refinery29.com/en-us/fashion-trend...</td>\n",
       "      <td>2023 Fashion Trend: Sheer Clothing. \"Bare it a...</td>\n",
       "      <td>7 Fashion Trends That Will Take Over 2023 — Sh...</td>\n",
       "    </tr>\n",
       "    <tr>\n",
       "      <th>3</th>\n",
       "      <td>https://www.refinery29.com/en-us/fashion-trend...</td>\n",
       "      <td>2023 Fashion Trend: Denim Reimagined. From dou...</td>\n",
       "      <td>7 Fashion Trends That Will Take Over 2023 — Sh...</td>\n",
       "    </tr>\n",
       "    <tr>\n",
       "      <th>4</th>\n",
       "      <td>https://www.refinery29.com/en-us/fashion-trend...</td>\n",
       "      <td>2023 Fashion Trend: Shine For The Daytime. The...</td>\n",
       "      <td>7 Fashion Trends That Will Take Over 2023 — Sh...</td>\n",
       "    </tr>\n",
       "  </tbody>\n",
       "</table>\n",
       "</div>"
      ],
      "text/plain": [
       "                                                 URL  \\\n",
       "0  https://www.refinery29.com/en-us/fashion-trend...   \n",
       "1  https://www.refinery29.com/en-us/fashion-trend...   \n",
       "2  https://www.refinery29.com/en-us/fashion-trend...   \n",
       "3  https://www.refinery29.com/en-us/fashion-trend...   \n",
       "4  https://www.refinery29.com/en-us/fashion-trend...   \n",
       "\n",
       "                                              Trends  \\\n",
       "0  2023 Fashion Trend: Red. Glossy red hues took ...   \n",
       "1  2023 Fashion Trend: Cargo Pants. Utilitarian w...   \n",
       "2  2023 Fashion Trend: Sheer Clothing. \"Bare it a...   \n",
       "3  2023 Fashion Trend: Denim Reimagined. From dou...   \n",
       "4  2023 Fashion Trend: Shine For The Daytime. The...   \n",
       "\n",
       "                                              Source  \n",
       "0  7 Fashion Trends That Will Take Over 2023 — Sh...  \n",
       "1  7 Fashion Trends That Will Take Over 2023 — Sh...  \n",
       "2  7 Fashion Trends That Will Take Over 2023 — Sh...  \n",
       "3  7 Fashion Trends That Will Take Over 2023 — Sh...  \n",
       "4  7 Fashion Trends That Will Take Over 2023 — Sh...  "
      ]
     },
     "execution_count": 80,
     "metadata": {},
     "output_type": "execute_result"
    }
   ],
   "source": [
    "# check first five rows of the dataset\n",
    "df.head()"
   ]
  },
  {
   "cell_type": "code",
   "execution_count": 81,
   "id": "dc8ff633",
   "metadata": {},
   "outputs": [
    {
     "data": {
      "text/plain": [
       "(82, 3)"
      ]
     },
     "execution_count": 81,
     "metadata": {},
     "output_type": "execute_result"
    }
   ],
   "source": [
    "# check shape of the dataset\n",
    "df.shape"
   ]
  },
  {
   "cell_type": "code",
   "execution_count": 82,
   "id": "89a2ec26",
   "metadata": {},
   "outputs": [
    {
     "data": {
      "text/plain": [
       "'2023 Fashion Trend: Red. Glossy red hues took over the Fall 2023 runways ranging from Sandy Liang and PatBo to Tory Burch and Wiederhoeft. Think: Juicy reds with vibrant orange undertones that would look just as good in head-to-toe looks (see: a pantsuit) as accent accessory pieces (shoes, handbags, jewelry).'"
      ]
     },
     "execution_count": 82,
     "metadata": {},
     "output_type": "execute_result"
    }
   ],
   "source": [
    "# check few trends rows\n",
    "df.Trends[0]"
   ]
  },
  {
   "cell_type": "code",
   "execution_count": 83,
   "id": "1b36b658",
   "metadata": {},
   "outputs": [
    {
     "data": {
      "text/plain": [
       "\"2023 Fashion Trend: Denim Reimagined. From double-waisted jeans to carpenter jeans, it's been a while since we were this excited about denim trends. It seems like even the most luxe runway designers agree, sending out strapless dresses, shirting, and even undergarments and shoes (thigh-high-boot-jean hybrids anyone?) in the material. Whatever category you decide on, opt for timeless cuts and silhouettes that can stay in your closet rotation once the novelty wears off.\""
      ]
     },
     "execution_count": 83,
     "metadata": {},
     "output_type": "execute_result"
    }
   ],
   "source": [
    "df.Trends[3]"
   ]
  },
  {
   "cell_type": "code",
   "execution_count": 84,
   "id": "96c3d6ce",
   "metadata": {},
   "outputs": [
    {
     "data": {
      "text/html": [
       "<div>\n",
       "<style scoped>\n",
       "    .dataframe tbody tr th:only-of-type {\n",
       "        vertical-align: middle;\n",
       "    }\n",
       "\n",
       "    .dataframe tbody tr th {\n",
       "        vertical-align: top;\n",
       "    }\n",
       "\n",
       "    .dataframe thead th {\n",
       "        text-align: right;\n",
       "    }\n",
       "</style>\n",
       "<table border=\"1\" class=\"dataframe\">\n",
       "  <thead>\n",
       "    <tr style=\"text-align: right;\">\n",
       "      <th></th>\n",
       "      <th>URL</th>\n",
       "      <th>Trends</th>\n",
       "      <th>Source</th>\n",
       "    </tr>\n",
       "  </thead>\n",
       "  <tbody>\n",
       "  </tbody>\n",
       "</table>\n",
       "</div>"
      ],
      "text/plain": [
       "Empty DataFrame\n",
       "Columns: [URL, Trends, Source]\n",
       "Index: []"
      ]
     },
     "execution_count": 84,
     "metadata": {},
     "output_type": "execute_result"
    }
   ],
   "source": [
    "# check if any rows has no information at all\n",
    "df[df[\"Trends\"].str.len() == 0]"
   ]
  },
  {
   "cell_type": "code",
   "execution_count": 85,
   "id": "554c25d7",
   "metadata": {},
   "outputs": [],
   "source": [
    "# the url and source is not a useful information to our customer unless they specifically ask for it.\n",
    "# for my project, i do not use this information.\n",
    "df.drop(['URL', 'Source'], axis=1, inplace=True)"
   ]
  },
  {
   "cell_type": "code",
   "execution_count": 86,
   "id": "c0b982a4",
   "metadata": {},
   "outputs": [
    {
     "data": {
      "text/html": [
       "<div>\n",
       "<style scoped>\n",
       "    .dataframe tbody tr th:only-of-type {\n",
       "        vertical-align: middle;\n",
       "    }\n",
       "\n",
       "    .dataframe tbody tr th {\n",
       "        vertical-align: top;\n",
       "    }\n",
       "\n",
       "    .dataframe thead th {\n",
       "        text-align: right;\n",
       "    }\n",
       "</style>\n",
       "<table border=\"1\" class=\"dataframe\">\n",
       "  <thead>\n",
       "    <tr style=\"text-align: right;\">\n",
       "      <th></th>\n",
       "      <th>Trends</th>\n",
       "    </tr>\n",
       "  </thead>\n",
       "  <tbody>\n",
       "    <tr>\n",
       "      <th>0</th>\n",
       "      <td>2023 Fashion Trend: Red. Glossy red hues took ...</td>\n",
       "    </tr>\n",
       "    <tr>\n",
       "      <th>1</th>\n",
       "      <td>2023 Fashion Trend: Cargo Pants. Utilitarian w...</td>\n",
       "    </tr>\n",
       "    <tr>\n",
       "      <th>2</th>\n",
       "      <td>2023 Fashion Trend: Sheer Clothing. \"Bare it a...</td>\n",
       "    </tr>\n",
       "    <tr>\n",
       "      <th>3</th>\n",
       "      <td>2023 Fashion Trend: Denim Reimagined. From dou...</td>\n",
       "    </tr>\n",
       "    <tr>\n",
       "      <th>4</th>\n",
       "      <td>2023 Fashion Trend: Shine For The Daytime. The...</td>\n",
       "    </tr>\n",
       "  </tbody>\n",
       "</table>\n",
       "</div>"
      ],
      "text/plain": [
       "                                              Trends\n",
       "0  2023 Fashion Trend: Red. Glossy red hues took ...\n",
       "1  2023 Fashion Trend: Cargo Pants. Utilitarian w...\n",
       "2  2023 Fashion Trend: Sheer Clothing. \"Bare it a...\n",
       "3  2023 Fashion Trend: Denim Reimagined. From dou...\n",
       "4  2023 Fashion Trend: Shine For The Daytime. The..."
      ]
     },
     "execution_count": 86,
     "metadata": {},
     "output_type": "execute_result"
    }
   ],
   "source": [
    "df.head()"
   ]
  },
  {
   "cell_type": "code",
   "execution_count": 87,
   "id": "8b4a5a17",
   "metadata": {},
   "outputs": [],
   "source": [
    "df = df.rename(columns={'Trends':'text'})"
   ]
  },
  {
   "cell_type": "code",
   "execution_count": 88,
   "id": "481b77e6",
   "metadata": {},
   "outputs": [
    {
     "data": {
      "text/html": [
       "<div>\n",
       "<style scoped>\n",
       "    .dataframe tbody tr th:only-of-type {\n",
       "        vertical-align: middle;\n",
       "    }\n",
       "\n",
       "    .dataframe tbody tr th {\n",
       "        vertical-align: top;\n",
       "    }\n",
       "\n",
       "    .dataframe thead th {\n",
       "        text-align: right;\n",
       "    }\n",
       "</style>\n",
       "<table border=\"1\" class=\"dataframe\">\n",
       "  <thead>\n",
       "    <tr style=\"text-align: right;\">\n",
       "      <th></th>\n",
       "      <th>text</th>\n",
       "    </tr>\n",
       "  </thead>\n",
       "  <tbody>\n",
       "    <tr>\n",
       "      <th>0</th>\n",
       "      <td>2023 Fashion Trend: Red. Glossy red hues took ...</td>\n",
       "    </tr>\n",
       "    <tr>\n",
       "      <th>1</th>\n",
       "      <td>2023 Fashion Trend: Cargo Pants. Utilitarian w...</td>\n",
       "    </tr>\n",
       "    <tr>\n",
       "      <th>2</th>\n",
       "      <td>2023 Fashion Trend: Sheer Clothing. \"Bare it a...</td>\n",
       "    </tr>\n",
       "    <tr>\n",
       "      <th>3</th>\n",
       "      <td>2023 Fashion Trend: Denim Reimagined. From dou...</td>\n",
       "    </tr>\n",
       "    <tr>\n",
       "      <th>4</th>\n",
       "      <td>2023 Fashion Trend: Shine For The Daytime. The...</td>\n",
       "    </tr>\n",
       "  </tbody>\n",
       "</table>\n",
       "</div>"
      ],
      "text/plain": [
       "                                                text\n",
       "0  2023 Fashion Trend: Red. Glossy red hues took ...\n",
       "1  2023 Fashion Trend: Cargo Pants. Utilitarian w...\n",
       "2  2023 Fashion Trend: Sheer Clothing. \"Bare it a...\n",
       "3  2023 Fashion Trend: Denim Reimagined. From dou...\n",
       "4  2023 Fashion Trend: Shine For The Daytime. The..."
      ]
     },
     "execution_count": 88,
     "metadata": {},
     "output_type": "execute_result"
    }
   ],
   "source": [
    "df.head()"
   ]
  },
  {
   "cell_type": "markdown",
   "id": "ae769871",
   "metadata": {},
   "source": [
    "## Custom Query Completion\n",
    "\n",
    "TODO: In the cells below, compose a custom query using your chosen dataset and retrieve results from an OpenAI `Completion` model. You may copy and paste any useful code from the course materials."
   ]
  },
  {
   "cell_type": "code",
   "execution_count": 89,
   "id": "00992852",
   "metadata": {},
   "outputs": [],
   "source": [
    "import openai"
   ]
  },
  {
   "cell_type": "code",
   "execution_count": 90,
   "id": "ec5e78af",
   "metadata": {},
   "outputs": [],
   "source": []
  },
  {
   "cell_type": "code",
   "execution_count": 91,
   "id": "8b6e1f75",
   "metadata": {},
   "outputs": [
    {
     "data": {
      "text/html": [
       "<div>\n",
       "<style scoped>\n",
       "    .dataframe tbody tr th:only-of-type {\n",
       "        vertical-align: middle;\n",
       "    }\n",
       "\n",
       "    .dataframe tbody tr th {\n",
       "        vertical-align: top;\n",
       "    }\n",
       "\n",
       "    .dataframe thead th {\n",
       "        text-align: right;\n",
       "    }\n",
       "</style>\n",
       "<table border=\"1\" class=\"dataframe\">\n",
       "  <thead>\n",
       "    <tr style=\"text-align: right;\">\n",
       "      <th></th>\n",
       "      <th>text</th>\n",
       "      <th>embeddings</th>\n",
       "    </tr>\n",
       "  </thead>\n",
       "  <tbody>\n",
       "    <tr>\n",
       "      <th>0</th>\n",
       "      <td>2023 Fashion Trend: Red. Glossy red hues took ...</td>\n",
       "      <td>[-0.02112550474703312, -0.021673880517482758, ...</td>\n",
       "    </tr>\n",
       "    <tr>\n",
       "      <th>1</th>\n",
       "      <td>2023 Fashion Trend: Cargo Pants. Utilitarian w...</td>\n",
       "      <td>[-0.0017983651487156749, -0.029038064181804657...</td>\n",
       "    </tr>\n",
       "    <tr>\n",
       "      <th>2</th>\n",
       "      <td>2023 Fashion Trend: Sheer Clothing. \"Bare it a...</td>\n",
       "      <td>[-0.010469219647347927, -0.019250944256782532,...</td>\n",
       "    </tr>\n",
       "    <tr>\n",
       "      <th>3</th>\n",
       "      <td>2023 Fashion Trend: Denim Reimagined. From dou...</td>\n",
       "      <td>[-0.01552637666463852, -0.005442269612103701, ...</td>\n",
       "    </tr>\n",
       "    <tr>\n",
       "      <th>4</th>\n",
       "      <td>2023 Fashion Trend: Shine For The Daytime. The...</td>\n",
       "      <td>[-0.005012418609112501, 0.0017600730061531067,...</td>\n",
       "    </tr>\n",
       "  </tbody>\n",
       "</table>\n",
       "</div>"
      ],
      "text/plain": [
       "                                                text  \\\n",
       "0  2023 Fashion Trend: Red. Glossy red hues took ...   \n",
       "1  2023 Fashion Trend: Cargo Pants. Utilitarian w...   \n",
       "2  2023 Fashion Trend: Sheer Clothing. \"Bare it a...   \n",
       "3  2023 Fashion Trend: Denim Reimagined. From dou...   \n",
       "4  2023 Fashion Trend: Shine For The Daytime. The...   \n",
       "\n",
       "                                          embeddings  \n",
       "0  [-0.02112550474703312, -0.021673880517482758, ...  \n",
       "1  [-0.0017983651487156749, -0.029038064181804657...  \n",
       "2  [-0.010469219647347927, -0.019250944256782532,...  \n",
       "3  [-0.01552637666463852, -0.005442269612103701, ...  \n",
       "4  [-0.005012418609112501, 0.0017600730061531067,...  "
      ]
     },
     "execution_count": 91,
     "metadata": {},
     "output_type": "execute_result"
    }
   ],
   "source": [
    "EMBEDDING_MODEL_NAME = \"text-embedding-ada-002\"\n",
    "batch_size = 100 # batch size\n",
    "\n",
    "embeddings = []\n",
    "for i in range(0, len(df), batch_size):\n",
    "    # Get embeddings from OpenAI model\n",
    "    response = openai.Embedding.create(\n",
    "        input=df.iloc[i:i+batch_size][\"text\"].tolist(),\n",
    "        engine=EMBEDDING_MODEL_NAME\n",
    "    )\n",
    "    \n",
    "    # Add embeddings to list\n",
    "    embeddings.extend([data[\"embedding\"] for data in response[\"data\"]])\n",
    "\n",
    "# Add embeddings list to dataframe\n",
    "df[\"embeddings\"] = embeddings\n",
    "df.head()"
   ]
  },
  {
   "cell_type": "code",
   "execution_count": 92,
   "id": "13f2dcd7",
   "metadata": {},
   "outputs": [],
   "source": [
    "# saving the embedding dataset for future use\n",
    "df.to_csv(\"embeddings.csv\")"
   ]
  },
  {
   "cell_type": "code",
   "execution_count": 93,
   "id": "c403f543",
   "metadata": {},
   "outputs": [
    {
     "data": {
      "text/html": [
       "<div>\n",
       "<style scoped>\n",
       "    .dataframe tbody tr th:only-of-type {\n",
       "        vertical-align: middle;\n",
       "    }\n",
       "\n",
       "    .dataframe tbody tr th {\n",
       "        vertical-align: top;\n",
       "    }\n",
       "\n",
       "    .dataframe thead th {\n",
       "        text-align: right;\n",
       "    }\n",
       "</style>\n",
       "<table border=\"1\" class=\"dataframe\">\n",
       "  <thead>\n",
       "    <tr style=\"text-align: right;\">\n",
       "      <th></th>\n",
       "      <th>text</th>\n",
       "      <th>embeddings</th>\n",
       "    </tr>\n",
       "  </thead>\n",
       "  <tbody>\n",
       "    <tr>\n",
       "      <th>0</th>\n",
       "      <td>2023 Fashion Trend: Red. Glossy red hues took ...</td>\n",
       "      <td>[-0.02112550474703312, -0.021673880517482758, ...</td>\n",
       "    </tr>\n",
       "    <tr>\n",
       "      <th>1</th>\n",
       "      <td>2023 Fashion Trend: Cargo Pants. Utilitarian w...</td>\n",
       "      <td>[-0.0017983651487156749, -0.029038064181804657...</td>\n",
       "    </tr>\n",
       "    <tr>\n",
       "      <th>2</th>\n",
       "      <td>2023 Fashion Trend: Sheer Clothing. \"Bare it a...</td>\n",
       "      <td>[-0.010469219647347927, -0.019250944256782532,...</td>\n",
       "    </tr>\n",
       "    <tr>\n",
       "      <th>3</th>\n",
       "      <td>2023 Fashion Trend: Denim Reimagined. From dou...</td>\n",
       "      <td>[-0.01552637666463852, -0.005442269612103701, ...</td>\n",
       "    </tr>\n",
       "    <tr>\n",
       "      <th>4</th>\n",
       "      <td>2023 Fashion Trend: Shine For The Daytime. The...</td>\n",
       "      <td>[-0.005012418609112501, 0.0017600730061531067,...</td>\n",
       "    </tr>\n",
       "    <tr>\n",
       "      <th>...</th>\n",
       "      <td>...</td>\n",
       "      <td>...</td>\n",
       "    </tr>\n",
       "    <tr>\n",
       "      <th>77</th>\n",
       "      <td>If lime green isn't your vibe, rest assured th...</td>\n",
       "      <td>[-0.002778862603008747, -0.018288010731339455,...</td>\n",
       "    </tr>\n",
       "    <tr>\n",
       "      <th>78</th>\n",
       "      <td>\"As someone who can clearly (not fondly) remem...</td>\n",
       "      <td>[-0.014756127260625362, -0.006549983285367489,...</td>\n",
       "    </tr>\n",
       "    <tr>\n",
       "      <th>79</th>\n",
       "      <td>\"Combine this design shift with the fact that ...</td>\n",
       "      <td>[-0.020819125697016716, -0.025045057758688927,...</td>\n",
       "    </tr>\n",
       "    <tr>\n",
       "      <th>80</th>\n",
       "      <td>Thought party season ended at the stroke of mi...</td>\n",
       "      <td>[-0.01982172764837742, -0.022165512666106224, ...</td>\n",
       "    </tr>\n",
       "    <tr>\n",
       "      <th>81</th>\n",
       "      <td>\"This season, we saw the revival of the bubble...</td>\n",
       "      <td>[-0.03108244203031063, 0.00233462150208652, 0....</td>\n",
       "    </tr>\n",
       "  </tbody>\n",
       "</table>\n",
       "<p>82 rows × 2 columns</p>\n",
       "</div>"
      ],
      "text/plain": [
       "                                                 text  \\\n",
       "0   2023 Fashion Trend: Red. Glossy red hues took ...   \n",
       "1   2023 Fashion Trend: Cargo Pants. Utilitarian w...   \n",
       "2   2023 Fashion Trend: Sheer Clothing. \"Bare it a...   \n",
       "3   2023 Fashion Trend: Denim Reimagined. From dou...   \n",
       "4   2023 Fashion Trend: Shine For The Daytime. The...   \n",
       "..                                                ...   \n",
       "77  If lime green isn't your vibe, rest assured th...   \n",
       "78  \"As someone who can clearly (not fondly) remem...   \n",
       "79  \"Combine this design shift with the fact that ...   \n",
       "80  Thought party season ended at the stroke of mi...   \n",
       "81  \"This season, we saw the revival of the bubble...   \n",
       "\n",
       "                                           embeddings  \n",
       "0   [-0.02112550474703312, -0.021673880517482758, ...  \n",
       "1   [-0.0017983651487156749, -0.029038064181804657...  \n",
       "2   [-0.010469219647347927, -0.019250944256782532,...  \n",
       "3   [-0.01552637666463852, -0.005442269612103701, ...  \n",
       "4   [-0.005012418609112501, 0.0017600730061531067,...  \n",
       "..                                                ...  \n",
       "77  [-0.002778862603008747, -0.018288010731339455,...  \n",
       "78  [-0.014756127260625362, -0.006549983285367489,...  \n",
       "79  [-0.020819125697016716, -0.025045057758688927,...  \n",
       "80  [-0.01982172764837742, -0.022165512666106224, ...  \n",
       "81  [-0.03108244203031063, 0.00233462150208652, 0....  \n",
       "\n",
       "[82 rows x 2 columns]"
      ]
     },
     "execution_count": 93,
     "metadata": {},
     "output_type": "execute_result"
    }
   ],
   "source": [
    "import numpy as np\n",
    "# read the saved embedding\n",
    "df = pd.read_csv(\"embeddings.csv\", index_col=0)\n",
    "df[\"embeddings\"] = df[\"embeddings\"].apply(eval).apply(np.array)\n",
    "df"
   ]
  },
  {
   "cell_type": "code",
   "execution_count": 94,
   "id": "74280b92",
   "metadata": {},
   "outputs": [],
   "source": [
    "from openai.embeddings_utils import get_embedding, distances_from_embeddings\n",
    "\n",
    "def get_rows_sorted_by_relevance(question, df):\n",
    "    \"\"\"\n",
    "    This function takes in a question string and a dataframe containing\n",
    "    rows of text and associated embeddings\n",
    "    \n",
    "    Returns: \n",
    "        Dataframe - sorted from least to most relevant for that question\n",
    "    \"\"\"\n",
    "    \n",
    "    # Get embeddings for the question text\n",
    "    question_embeddings = get_embedding(question, engine=EMBEDDING_MODEL_NAME)\n",
    "    \n",
    "    # Make a copy of the dataframe and add a \"distances\" column containing\n",
    "    # the cosine distances between each row's embeddings and the\n",
    "    # embeddings of the question\n",
    "    df_copy = df.copy()\n",
    "    df_copy[\"distances\"] = distances_from_embeddings(\n",
    "        question_embeddings,\n",
    "        df_copy[\"embeddings\"].values,\n",
    "        distance_metric=\"cosine\" \n",
    "    )\n",
    "    \n",
    "    # Sort the copied dataframe by the distances and return it\n",
    "    # (shorter distance = more relevant so we sort in ascending order)\n",
    "    df_copy.sort_values(\"distances\", ascending=True, inplace=True)\n",
    "    return df_copy"
   ]
  },
  {
   "cell_type": "code",
   "execution_count": 95,
   "id": "97e2ead9",
   "metadata": {},
   "outputs": [
    {
     "name": "stdout",
     "output_type": "stream",
     "text": [
      "It is difficult to predict exactly what will be new in fashion in 2023 as fashion trends are constantly changing and evolving. However, some possible trends that may emerge in 2023 could include:\n",
      "\n",
      "1. Sustainable and ethical fashion: As people become more conscious about environmental and social issues, there is a growing demand for sustainable and ethical fashion. This could include fashion brands using eco-friendly materials, promoting fair labor practices, and implementing sustainable production methods.\n",
      "\n",
      "2. Bold colors and patterns: Bold and vibrant colors and patterns may be a popular trend in 2023, as seen in recent fashion weeks. This could include bright neon hues, graphic prints, and bold stripes.\n",
      "\n",
      "3. Oversized and relaxed silhouettes: Comfortable and relaxed silhou\n"
     ]
    }
   ],
   "source": [
    "q1_prompt = \"\"\"\n",
    "Question: \"What is new in fashion in 2023.\"\n",
    "Answer:\n",
    "\"\"\"\n",
    "\n",
    "initial_q1_answer = openai.Completion.create(\n",
    "    model=\"gpt-3.5-turbo-instruct\", # using laster instruct gpt model\n",
    "    prompt=q1_prompt,\n",
    "    max_tokens=150\n",
    ")[\"choices\"][0][\"text\"].strip()\n",
    "\n",
    "print(initial_q1_answer)\n"
   ]
  },
  {
   "cell_type": "code",
   "execution_count": 96,
   "id": "34f73536",
   "metadata": {},
   "outputs": [
    {
     "name": "stdout",
     "output_type": "stream",
     "text": [
      "Unfortunately, it is impossible to predict the color trends for future years as fashion and trends are constantly changing and evolving. The best way to stay updated on fall 2023 color trends is to follow fashion news and forecasts closer to that time.\n"
     ]
    }
   ],
   "source": [
    "q2_prompt = \"\"\"\n",
    "Question: \"what colour is the trends in fall 2023?\"\n",
    "Answer:\n",
    "\"\"\"\n",
    "\n",
    "initial_q2_answer = openai.Completion.create(\n",
    "    model=\"gpt-3.5-turbo-instruct\",\n",
    "    prompt=q2_prompt,\n",
    "    max_tokens=150\n",
    ")[\"choices\"][0][\"text\"].strip()\n",
    "\n",
    "print(initial_q2_answer)"
   ]
  },
  {
   "cell_type": "code",
   "execution_count": null,
   "id": "6c3f25af",
   "metadata": {},
   "outputs": [],
   "source": []
  },
  {
   "cell_type": "code",
   "execution_count": 97,
   "id": "588fcb98",
   "metadata": {},
   "outputs": [],
   "source": [
    "import tiktoken\n",
    "\n",
    "def create_prompt(question, df, max_token_count):\n",
    "    \"\"\"\n",
    "    Given a question and a dataframe containing rows of text and their\n",
    "    embeddings\n",
    "    \n",
    "    Return:\n",
    "        a text prompt to send to a Completion model\n",
    "    \"\"\"\n",
    "    # Create a tokenizer that is designed to align with our embeddings\n",
    "    tokenizer = tiktoken.get_encoding(\"cl100k_base\")\n",
    "    \n",
    "    # Count the number of tokens in the prompt template and question\n",
    "    prompt_template = \"\"\"\n",
    "    Answer the question based on the context below, and if the question\n",
    "    can't be answered based on the context, say \"I don't know\"\n",
    "\n",
    "    Context: \n",
    "\n",
    "    {}\n",
    "\n",
    "    ---\n",
    "\n",
    "    Question: {}\n",
    "    \n",
    "    Answer:\"\"\"\n",
    "    \n",
    "    current_token_count = len(tokenizer.encode(prompt_template)) + \\\n",
    "                            len(tokenizer.encode(question))\n",
    "    \n",
    "    context = []\n",
    "    for text in get_rows_sorted_by_relevance(question, df)[\"text\"].values:\n",
    "        \n",
    "        # Increase the counter based on the number of tokens in this row\n",
    "        text_token_count = len(tokenizer.encode(text))\n",
    "        current_token_count += text_token_count\n",
    "        \n",
    "        # Add the row of text to the list if we haven't exceeded the max\n",
    "        if current_token_count <= max_token_count:\n",
    "            context.append(text)\n",
    "        else:\n",
    "            break\n",
    "\n",
    "    return prompt_template.format(\"\\n\\n###\\n\\n\".join(context), question) #suggested in the live class"
   ]
  },
  {
   "cell_type": "code",
   "execution_count": 98,
   "id": "48310c3f",
   "metadata": {},
   "outputs": [],
   "source": [
    "COMPLETION_MODEL_NAME = \"gpt-3.5-turbo-instruct\"\n",
    "\n",
    "def custom_query(question, df, max_prompt_tokens=3000, max_answer_tokens=750):\n",
    "    \"\"\"\n",
    "    Given a question, a dataframe containing rows of text, and a maximum\n",
    "    number of desired tokens in the prompt and response, \n",
    "    \n",
    "    Return:\n",
    "        Answer to the question according to an OpenAI Completion model\n",
    "        If the model produces an error, return an empty string\n",
    "    \"\"\"\n",
    "    \n",
    "    prompt = create_prompt(question, df, max_prompt_tokens)\n",
    "    try:\n",
    "        response = openai.Completion.create(\n",
    "            model=COMPLETION_MODEL_NAME,\n",
    "            prompt=prompt,\n",
    "            max_tokens=max_answer_tokens\n",
    "        )\n",
    "        return response[\"choices\"][0][\"text\"].strip()\n",
    "    except Exception as e:\n",
    "        print(e)\n",
    "        return \"\""
   ]
  },
  {
   "cell_type": "code",
   "execution_count": 99,
   "id": "634da64e",
   "metadata": {},
   "outputs": [
    {
     "name": "stdout",
     "output_type": "stream",
     "text": [
      "\n",
      "    Answer the question based on the context below, and if the question\n",
      "    can't be answered based on the context, say \"I don't know\"\n",
      "\n",
      "    Context: \n",
      "\n",
      "    2023 Fashion Trend: Red. Glossy red hues took over the Fall 2023 runways ranging from Sandy Liang and PatBo to Tory Burch and Wiederhoeft. Think: Juicy reds with vibrant orange undertones that would look just as good in head-to-toe looks (see: a pantsuit) as accent accessory pieces (shoes, handbags, jewelry).\n",
      "\n",
      "###\n",
      "\n",
      "\"Every season, there is a trend that speaks to the inner maximalist in us. While autumn gave us lurid neons, biker boots and Y2K glamour, spring/summer 2023 presents something a little sweeter, and those with an aversion to all things 'pretty,' consider this your warning to look away now,\" says Remy Farrell, shopping editor at Who What Wear UK.\n",
      "\n",
      "###\n",
      "\n",
      "2023 Fashion Trend: Cobalt Blue. The strongest color story to come out of Spring 2023 runways, cobalt blue has burst through the collections with the freshness of a sea mist on a morning day. Just bright enough to warrant a double take, yet subtle enough to be worked into daily wear, it's the type of deep blue that will excite even the most color-averse. Bonus points: It pairs well with Pantone's Viva Magenta.\n",
      "\n",
      "###\n",
      "\n",
      "2023 Fashion Trend: Shine For The Daytime. The amount of shine on the 2023 runways would make you think we are back in the Roaring '20s. While sequins may feel over as soon as the clock strikes midnight on January 31, this year, designers are making a case for \"daytime shine\" – wearable separates that can spice up even the most basic staples like tank tops (see above) and blue jeans. While this trend comes in all metallic shades (gold, bronze, rose gold etc.), we are partial to the liquid silver look that can double as a neutral.\n",
      "\n",
      "###\n",
      "\n",
      "In a diplomatic turn, designers have extended the lifespan of some noteworthy A/W 22 trends, continuing their exploration of them in 2023, ensuring we get adequate wear out of the pieces in which we've already invested. Elevated basics is one such trend. Last season, there was a clear '90s directive when it came to minimalism, with logo vests, low-slung trousers and tube dresses being hero items. Now, things have been pared back even further; sure, Y2K maxi skirts and oversized suiting are very much a thing, as witnessed on the runways of Peter Do and Roksanda respectively, but the silhouettes are cleaner and the colour palette looks more expensive; think shades of teal, camel and navy.\n",
      "\n",
      "###\n",
      "\n",
      "For spring 2023, there was a more surrealist interpretation with standout 3D designs and runway looks embellished with floral motifs. Standouts included provocative sculptural flowers on mini and maxi dresses paired with bold leaf shoes, says Page.\n",
      "\n",
      "###\n",
      "\n",
      "2023 Fashion Trend: Sheer Clothing. \"Bare it all\" has been the motto since the end of the lockdown. In 2023,  naked dressing makes its way from the red carpet – where celebrities like Cher and Rihanna have been sporting the trend forever – to street style. From a cellophane-like dress, worn over a boldly hued maxi skirt at Tory Burch's spring 2023 show, to a frothy frock revealing undergarments at Victoria Beckham, the previously risqué trend is coming not only for your weekend wardrobe but even workwear.\n",
      "\n",
      "###\n",
      "\n",
      "Since attending the shows back in September, I must have looked at well over 10,000 runway images to discern the looks I'd include in this, our bumper spring/summer 2023 fashion trend overview. (That's no exaggeration by the way; if you take 350 shows with, say, 30 models each, the number quickly racks up.) Some trends take some digging to unearth, but others? Well, they're pretty hard to miss. Green falls into the latter category.\n",
      "\n",
      "###\n",
      "\n",
      "Pinstripe Tailoring. The suit vest sparked a sartorial sensation over the summer, and the fad isn’t going anywhere in 2023 either. I specifically loved the pinstripe versions seen at the Coperni SS23 show. I plan on wearing this one from Favorite Daughter with a matching pant for the ultimate gray outfit. —Laura Jackson, commerce writer\n",
      "\n",
      "    ---\n",
      "\n",
      "    Question: In which season a orange colour will be suitable to wear in 2023?\n",
      "    \n",
      "    Answer:\n"
     ]
    }
   ],
   "source": [
    "print(create_prompt(\"In which season a orange colour will be suitable to wear in 2023?\", df, 1000))\n"
   ]
  },
  {
   "cell_type": "markdown",
   "id": "1783f146",
   "metadata": {},
   "source": [
    "## Custom Performance Demonstration\n",
    "\n",
    "TODO: In the cells below, demonstrate the performance of your custom query using at least 2 questions. For each question, show the answer from a basic `Completion` model query as well as the answer from your custom query."
   ]
  },
  {
   "cell_type": "markdown",
   "id": "4f11fdc0",
   "metadata": {},
   "source": [
    "### Question 1"
   ]
  },
  {
   "cell_type": "code",
   "execution_count": 100,
   "id": "4b325cea",
   "metadata": {},
   "outputs": [
    {
     "name": "stdout",
     "output_type": "stream",
     "text": [
      "It is difficult to predict exactly what will be new in fashion in 2023 as fashion trends are constantly changing and evolving. However, some possible trends that may emerge in 2023 could include:\n",
      "\n",
      "1. Sustainable and ethical fashion: As people become more conscious about environmental and social issues, there is a growing demand for sustainable and ethical fashion. This could include fashion brands using eco-friendly materials, promoting fair labor practices, and implementing sustainable production methods.\n",
      "\n",
      "2. Bold colors and patterns: Bold and vibrant colors and patterns may be a popular trend in 2023, as seen in recent fashion weeks. This could include bright neon hues, graphic prints, and bold stripes.\n",
      "\n",
      "3. Oversized and relaxed silhouettes: Comfortable and relaxed silhou\n"
     ]
    }
   ],
   "source": [
    "print(initial_q1_answer)"
   ]
  },
  {
   "cell_type": "code",
   "execution_count": 101,
   "id": "4901c850",
   "metadata": {},
   "outputs": [
    {
     "name": "stdout",
     "output_type": "stream",
     "text": [
      "Custom query result for Question 1: Sheer clothing, shine for daytime, cobalt blue, red, cargo pants, indie sleaze, maxi skirts, denim reimagined, elevated basics, floral motifs, tailored trousers, mesh, pinstripe tailoring, tailoring, vinyl, ballet shoes, green, trains, blazers cinched, trompe l'oeil prints, bohemian smudgy prints, bubble skirts, and digitally manipulated prints are new in fashion for 2023.\n"
     ]
    }
   ],
   "source": [
    "question1 = \"What is new in fashion in 2023\"\n",
    "result_custom_q1 = custom_query(question1, df)\n",
    "\n",
    "print(f\"Custom query result for Question 1: {result_custom_q1}\")"
   ]
  },
  {
   "cell_type": "markdown",
   "id": "6e86e37c",
   "metadata": {},
   "source": [
    "### Question 2"
   ]
  },
  {
   "cell_type": "code",
   "execution_count": 102,
   "id": "1d356c2d",
   "metadata": {},
   "outputs": [
    {
     "name": "stdout",
     "output_type": "stream",
     "text": [
      "Unfortunately, it is impossible to predict the color trends for future years as fashion and trends are constantly changing and evolving. The best way to stay updated on fall 2023 color trends is to follow fashion news and forecasts closer to that time.\n"
     ]
    }
   ],
   "source": [
    "print(initial_q2_answer)"
   ]
  },
  {
   "cell_type": "code",
   "execution_count": null,
   "id": "6f646989",
   "metadata": {},
   "outputs": [],
   "source": [
    "question2 = \"what colour is the trends in fall 2023?\"\n",
    "\n",
    "result_custom_q2 = custom_query(question2, df)\n",
    "\n",
    "print(f\"Custom query result for Question 2: {result_custom_q2}\")"
   ]
  },
  {
   "cell_type": "code",
   "execution_count": null,
   "id": "e9bb84bb",
   "metadata": {},
   "outputs": [],
   "source": []
  }
 ],
 "metadata": {
  "kernelspec": {
   "display_name": "Python 3 (ipykernel)",
   "language": "python",
   "name": "python3"
  },
  "language_info": {
   "codemirror_mode": {
    "name": "ipython",
    "version": 3
   },
   "file_extension": ".py",
   "mimetype": "text/x-python",
   "name": "python",
   "nbconvert_exporter": "python",
   "pygments_lexer": "ipython3",
   "version": "3.9.16"
  }
 },
 "nbformat": 4,
 "nbformat_minor": 5
}
